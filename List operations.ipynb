{
  "nbformat": 4,
  "nbformat_minor": 0,
  "metadata": {
    "colab": {
      "provenance": []
    },
    "kernelspec": {
      "name": "python3",
      "display_name": "Python 3"
    },
    "language_info": {
      "name": "python"
    }
  },
  "cells": [
    {
      "cell_type": "code",
      "source": [
        "# Take input for number of elements\n",
        "n = int(input(\"Enter the number of elements: \"))\n",
        "\n",
        "# Take input for the elements\n",
        "numbers = []\n",
        "for i in range(n):\n",
        "    num = int(input(\"Enter element: \"))\n",
        "    numbers.append(num)\n",
        "\n",
        "# Calculate the product using a loop\n",
        "product = 1\n",
        "for num in numbers:\n",
        "    product *= num\n",
        "\n",
        "# Print the final product\n",
        "print(\"Product of all elements:\", product)"
      ],
      "metadata": {
        "colab": {
          "base_uri": "https://localhost:8080/"
        },
        "id": "afGDBNjcnzqz",
        "outputId": "ae615e7a-2bd0-46b8-8eaf-69752218be01"
      },
      "execution_count": null,
      "outputs": [
        {
          "output_type": "stream",
          "name": "stdout",
          "text": [
            "Enter the number of elements: 5\n",
            "Enter element: 1\n",
            "Enter element: 2\n",
            "Enter element: 3\n",
            "Enter element: 4\n",
            "Enter element: 5\n",
            "Product of all elements: 120\n"
          ]
        }
      ]
    },
    {
      "cell_type": "code",
      "source": [
        "# Taking input from user\n",
        "N = int(input(\"Enter the number of elements in the array: \"))  # Number of elements\n",
        "arr = []  # Initializing the array\n",
        "\n",
        "# Reading the N elements into the array\n",
        "print(f\"Enter {N} elements:\")\n",
        "for _ in range(N):\n",
        "    arr.append(int(input(\"Enter element: \")))\n",
        "\n",
        "X = int(input(\"Enter the position (1-based index) where you want to insert: \"))  # Position to insert\n",
        "Y = int(input(\"Enter the value to insert: \"))  # Value to insert\n",
        "\n",
        "# Convert 1-based index to 0-based index and insert Y at X-1\n",
        "arr.insert(X - 1, Y)\n",
        "\n",
        "# Printing the updated array\n",
        "print(\"Updated array after insertion:\")\n",
        "print(arr)"
      ],
      "metadata": {
        "colab": {
          "base_uri": "https://localhost:8080/"
        },
        "id": "JLIO8nfmxd9v",
        "outputId": "256d599a-52cc-4996-ef15-11b5a7f454a7"
      },
      "execution_count": null,
      "outputs": [
        {
          "output_type": "stream",
          "name": "stdout",
          "text": [
            "Enter the number of elements in the array: 5\n",
            "Enter 5 elements:\n",
            "Enter element: 1\n",
            "Enter element: 2\n",
            "Enter element: 3\n",
            "Enter element: 4\n",
            "Enter element: 6\n",
            "Enter the position (1-based index) where you want to insert: 5\n",
            "Enter the value to insert: 5\n",
            "Updated array after insertion:\n",
            "1 2 3 4 5 6\n"
          ]
        }
      ]
    },
    {
      "cell_type": "code",
      "source": [
        "    N = int(input(\"Enter the numbers of element: \"))\n",
        "    arr = []\n",
        "    for i in range(N):\n",
        "        arr.append(int(input(\"Enter element \"+ str(i+1) + \": \")))\n",
        "    temp = arr[N-1]  # Store last element in temp variable to put at 0 index later.\n",
        "    for i in range(N-1, 0, -1): # The -1 step ensures that the loop moves backward.Forward will overwrite.\n",
        "        arr[i] = arr[i - 1]  # Move each element right\n",
        "    arr[0] = temp # Storing temp variable at 0 index\n",
        "    print(arr)"
      ],
      "metadata": {
        "colab": {
          "base_uri": "https://localhost:8080/"
        },
        "id": "9woBs-SZzARc",
        "outputId": "b0c0179c-a35d-457e-d6ae-920ddb1a3e54"
      },
      "execution_count": null,
      "outputs": [
        {
          "output_type": "stream",
          "name": "stdout",
          "text": [
            "Enter the numbers of element: 5\n",
            "Enter element 1: 2\n",
            "Enter element 2: 3\n",
            "Enter element 3: 4\n",
            "Enter element 4: 5\n",
            "Enter element 5: 1\n",
            "[1, 2, 3, 4, 5]\n"
          ]
        }
      ]
    },
    {
      "cell_type": "code",
      "source": [
        "# Another way of doing shifting of last element at 0 index.\n",
        "N = int(input(\"Enter the numbers of element: \"))\n",
        "arr = []\n",
        "for i in range(N):\n",
        "    arr.append(int(input(\"Enter element \"+ str(i+1) + \": \")))\n",
        "ele = arr.pop() # It can be written in 1 line as well. **arr.insert(0, arr.pop())**\n",
        "arr.insert(0, ele)\n",
        "print(arr)"
      ],
      "metadata": {
        "colab": {
          "base_uri": "https://localhost:8080/"
        },
        "id": "EKqocIyN6XBN",
        "outputId": "c32f8c39-8cb7-4036-970e-c9c3a530b24f"
      },
      "execution_count": null,
      "outputs": [
        {
          "output_type": "stream",
          "name": "stdout",
          "text": [
            "Enter the numbers of element: 6\n",
            "Enter element 1: 2\n",
            "Enter element 2: 3\n",
            "Enter element 3: 4\n",
            "Enter element 4: 5\n",
            "Enter element 5: 6\n",
            "Enter element 6: 1\n",
            "[1, 2, 3, 4, 5, 6]\n"
          ]
        }
      ]
    },
    {
      "cell_type": "code",
      "source": [
        "N = int(input(\"Enter numbers of element: \")) # Enter numbers of element\n",
        "arr = []\n",
        "for i in range(N):\n",
        "    arr.append(int(input(\"Enter element \"+ str(i+1) + \": \")))\n",
        "arr.reverse() # Reversing all elements in the list.\n",
        "print(\"Reversed list: \", arr)"
      ],
      "metadata": {
        "colab": {
          "base_uri": "https://localhost:8080/"
        },
        "id": "VHARcQoH48Lq",
        "outputId": "e6e154c9-f5b7-4dc3-9fbf-694c11c2b570"
      },
      "execution_count": null,
      "outputs": [
        {
          "output_type": "stream",
          "name": "stdout",
          "text": [
            "Enter numbers of element: 5\n",
            "Enter element 1: 5\n",
            "Enter element 2: 4\n",
            "Enter element 3: 3\n",
            "Enter element 4: 2\n",
            "Enter element 5: 1\n",
            "Reversed list:  [1, 2, 3, 4, 5]\n"
          ]
        }
      ]
    },
    {
      "cell_type": "code",
      "source": [
        "N = int(input(\"Enter number of elements: \"))\n",
        "arr = []\n",
        "for i in range(N):\n",
        "    arr.append(int(input(f\"Enter element {i+1}: \")))\n",
        "new_arr = []\n",
        "for i in arr:\n",
        "    if i < 0: # if i >= 0, in case of removing negative number.\n",
        "        new_arr.append(i)\n",
        "print(new_arr)"
      ],
      "metadata": {
        "colab": {
          "base_uri": "https://localhost:8080/"
        },
        "id": "Not3i_9MPEgU",
        "outputId": "29e987f5-2bc7-4f8a-a1c7-1b2281423a1f"
      },
      "execution_count": null,
      "outputs": [
        {
          "output_type": "stream",
          "name": "stdout",
          "text": [
            "Enter number of elements: 5\n",
            "Enter element 1: -1\n",
            "Enter element 2: 2\n",
            "Enter element 3: -3\n",
            "Enter element 4: 4\n",
            "Enter element 5: -5\n",
            "[-1, -3, -5]\n"
          ]
        }
      ]
    },
    {
      "cell_type": "code",
      "source": [
        "N = int(input(\"Enter the numbers of the element: \"))\n",
        "arr = []\n",
        "for i in range(N):\n",
        "    arr.append(int(input(f\"Enter the element {i+1}: \")))\n",
        "arr1 = []\n",
        "for i in arr:\n",
        "    if i % 5 == 0 and i % 7 == 0:\n",
        "        arr1.append(i)\n",
        "print(\"Elements divisible by 5 and 7: \", arr1)"
      ],
      "metadata": {
        "colab": {
          "base_uri": "https://localhost:8080/"
        },
        "id": "tFwbKb3RU7wZ",
        "outputId": "cbe200fe-cdde-41cb-c3cb-d0e711626b90"
      },
      "execution_count": null,
      "outputs": [
        {
          "output_type": "stream",
          "name": "stdout",
          "text": [
            "Enter the numbers of the element: 5\n",
            "Enter the element 1: 10\n",
            "Enter the element 2: 35\n",
            "Enter the element 3: 70\n",
            "Enter the element 4: 90\n",
            "Enter the element 5: 105\n",
            "Elements divisible by 5 and 7:  [35, 70, 105]\n"
          ]
        }
      ]
    },
    {
      "cell_type": "code",
      "source": [
        "# Even index runs after sorting\n",
        "runs = [12, 76, 45, 75, 74, 34, 101, 102]\n",
        "runs.sort()\n",
        "result = []\n",
        "for i in range(len(runs)):\n",
        "    if i % 2 == 0:\n",
        "        result.append(runs[i])\n",
        "print(result)"
      ],
      "metadata": {
        "colab": {
          "base_uri": "https://localhost:8080/"
        },
        "id": "bMyGSnOeH9XS",
        "outputId": "a116506d-bbbc-47ef-8077-77189dd45042"
      },
      "execution_count": null,
      "outputs": [
        {
          "output_type": "stream",
          "name": "stdout",
          "text": [
            "[12, 45, 75, 101]\n"
          ]
        }
      ]
    },
    {
      "cell_type": "code",
      "source": [
        "matrix = []\n",
        "print(\"Enter the elements of the 3x3 matrix row by row:\")\n",
        "\n",
        "for i in range(3):\n",
        "    row = []\n",
        "    for j in range(3):\n",
        "        num = int(input(f\"Enter element at position [{i+1},{j+1}]: \"))\n",
        "        row.append(num)\n",
        "    matrix.append(row)\n",
        "\n",
        "print(\"Matrix:\")\n",
        "for row in matrix:\n",
        "    print(row)"
      ],
      "metadata": {
        "colab": {
          "base_uri": "https://localhost:8080/"
        },
        "id": "tUyQYoAdVZEa",
        "outputId": "3e854804-8162-42fd-cb2d-54e0f1309871"
      },
      "execution_count": null,
      "outputs": [
        {
          "output_type": "stream",
          "name": "stdout",
          "text": [
            "Enter the elements of the 3x3 matrix row by row:\n",
            "Enter element at position [1,1]: 1\n",
            "Enter element at position [1,2]: 2\n",
            "Enter element at position [1,3]: 3\n",
            "Enter element at position [2,1]: 4\n",
            "Enter element at position [2,2]: 5\n",
            "Enter element at position [2,3]: 6\n",
            "Enter element at position [3,1]: 7\n",
            "Enter element at position [3,2]: 8\n",
            "Enter element at position [3,3]: 9\n",
            "Matrix:\n",
            "[1, 2, 3]\n",
            "[4, 5, 6]\n",
            "[7, 8, 9]\n"
          ]
        }
      ]
    },
    {
      "cell_type": "code",
      "source": [
        "# Input Matrix 1\n",
        "print(\"Enter 9 elements for Matrix 1:\")\n",
        "matrix1 = []\n",
        "for i in range(3):\n",
        "    row = []\n",
        "    for j in range(3):\n",
        "        num = int(input(f\"Enter element [{i+1},{j+1}]: \"))\n",
        "        row.append(num)\n",
        "    matrix1.append(row)\n",
        "\n",
        "print(\"\\nMatrix 1:\")\n",
        "for row in matrix1:\n",
        "    print(row)\n",
        "\n",
        "# Input Matrix 2\n",
        "print(\"\\nEnter 9 elements for Matrix 2:\")\n",
        "matrix2 = []\n",
        "for i in range(3):\n",
        "    row = []\n",
        "    for j in range(3):\n",
        "        num = int(input(f\"Enter element [{i+1},{j+1}]: \"))\n",
        "        row.append(num)\n",
        "    matrix2.append(row)\n",
        "\n",
        "print(\"\\nMatrix 2:\")\n",
        "for row in matrix2:\n",
        "    print(row)\n",
        "\n",
        "# Add Matrices\n",
        "result = []\n",
        "for i in range(3):\n",
        "    row = []\n",
        "    for j in range(3):\n",
        "        row.append(matrix1[i][j] + matrix2[i][j])\n",
        "    result.append(row)\n",
        "\n",
        "print(\"\\nSum of Matrix 1 and Matrix 2:\")\n",
        "for row in result:\n",
        "    print(row)"
      ],
      "metadata": {
        "colab": {
          "base_uri": "https://localhost:8080/"
        },
        "id": "gHl2JdNd14s5",
        "outputId": "52c83661-264b-4446-a06f-883dfeaf8002"
      },
      "execution_count": null,
      "outputs": [
        {
          "output_type": "stream",
          "name": "stdout",
          "text": [
            "Enter 9 elements for Matrix 1:\n",
            "Enter element [1,1]: 5\n",
            "Enter element [1,2]: 1\n",
            "Enter element [1,3]: 2\n",
            "Enter element [2,1]: 3\n",
            "Enter element [2,2]: 5\n",
            "Enter element [2,3]: 5\n",
            "Enter element [3,1]: 6\n",
            "Enter element [3,2]: 7\n",
            "Enter element [3,3]: 8\n",
            "\n",
            "Matrix 1:\n",
            "[5, 1, 2]\n",
            "[3, 5, 5]\n",
            "[6, 7, 8]\n",
            "\n",
            "Enter 9 elements for Matrix 2:\n",
            "Enter element [1,1]: 9\n",
            "Enter element [1,2]: 5\n",
            "Enter element [1,3]: 4\n",
            "Enter element [2,1]: 5\n",
            "Enter element [2,2]: 2\n",
            "Enter element [2,3]: 8\n",
            "Enter element [3,1]: 9\n",
            "Enter element [3,2]: 7\n",
            "Enter element [3,3]: 5\n",
            "\n",
            "Matrix 2:\n",
            "[9, 5, 4]\n",
            "[5, 2, 8]\n",
            "[9, 7, 5]\n",
            "\n",
            "Sum of Matrix 1 and Matrix 2:\n",
            "[14, 6, 6]\n",
            "[8, 7, 13]\n",
            "[15, 14, 13]\n"
          ]
        }
      ]
    },
    {
      "cell_type": "code",
      "source": [
        "# Get matrix dimensions from the user\n",
        "rows = int(input(\"Enter the number of rows: \"))\n",
        "cols = int(input(\"Enter the number of columns: \"))\n",
        "\n",
        "# Initialize matrix\n",
        "matrix = []\n",
        "max_values = []\n",
        "\n",
        "print(\"Enter the elements one by one:\")\n",
        "\n",
        "# Taking input for the matrix\n",
        "for i in range(rows):\n",
        "    row = []\n",
        "    for j in range(cols):\n",
        "        num = int(input(f\"Enter element for Row {i+1}, Column {j+1}: \"))\n",
        "        row.append(num)\n",
        "    matrix.append(row)\n",
        "\n",
        "# Find the largest element in each row and store it in max_values\n",
        "for i in range(rows):\n",
        "    max_value = matrix[i][0]  # Assume first element is the largest\n",
        "    for j in range(1, cols):\n",
        "        if matrix[i][j] > max_value:\n",
        "            max_value = matrix[i][j]\n",
        "    max_values.append(max_value)\n",
        "\n",
        "# Print the largest elements as a list\n",
        "print(\"Largest elements in each row:\", max_values)"
      ],
      "metadata": {
        "colab": {
          "base_uri": "https://localhost:8080/"
        },
        "id": "wvfL94TQBHkD",
        "outputId": "84f36b84-3cab-41b5-8730-21a1e28e7f91"
      },
      "execution_count": null,
      "outputs": [
        {
          "output_type": "stream",
          "name": "stdout",
          "text": [
            "Enter the number of rows: 2\n",
            "Enter the number of columns: 2\n",
            "Enter the elements one by one:\n",
            "Enter element for Row 1, Column 1: 3\n",
            "Enter element for Row 1, Column 2: 4\n",
            "Enter element for Row 2, Column 1: 5\n",
            "Enter element for Row 2, Column 2: 6\n",
            "Largest elements in each row: [4, 6]\n"
          ]
        }
      ]
    },
    {
      "cell_type": "code",
      "source": [
        "# Get matrix dimensions from the user\n",
        "rows = int(input(\"Enter the number of rows: \"))\n",
        "cols = int(input(\"Enter the number of columns: \"))\n",
        "\n",
        "# Initialize matrix\n",
        "matrix = []\n",
        "\n",
        "print(\"Enter the elements one by one:\")\n",
        "\n",
        "# Taking input for the matrix\n",
        "for i in range(rows):\n",
        "    row = []\n",
        "    for j in range(cols):\n",
        "        num = int(input(f\"Enter element for Row {i+1}, Column {j+1}: \"))\n",
        "        row.append(num)\n",
        "    matrix.append(row)\n",
        "print(\"Largest element in each rows:\", [max(element) for element in matrix]) # Another way to find largest element in the list\n"
      ],
      "metadata": {
        "colab": {
          "base_uri": "https://localhost:8080/"
        },
        "id": "S4tmUlzL1iWC",
        "outputId": "4a54dc48-3788-4641-e0b8-aa9022c52a59"
      },
      "execution_count": null,
      "outputs": [
        {
          "output_type": "stream",
          "name": "stdout",
          "text": [
            "Enter the number of rows: 2\n",
            "Enter the number of columns: 2\n",
            "Enter the elements one by one:\n",
            "Enter element for Row 1, Column 1: 1\n",
            "Enter element for Row 1, Column 2: 2\n",
            "Enter element for Row 2, Column 1: 3\n",
            "Enter element for Row 2, Column 2: 4\n",
            "Largest element in each rows: [2, 4]\n"
          ]
        }
      ]
    },
    {
      "cell_type": "code",
      "source": [
        "run = [1, 2, 0, 3]\n",
        "\n",
        "print([run.index(i) for i in range(len(run))])\n",
        "\n",
        "\n",
        "\n"
      ],
      "metadata": {
        "colab": {
          "base_uri": "https://localhost:8080/"
        },
        "id": "YSnnd3jiRHdK",
        "outputId": "6a579b39-7e3d-4612-aced-b50d1eda70fe"
      },
      "execution_count": null,
      "outputs": [
        {
          "output_type": "stream",
          "name": "stdout",
          "text": [
            "[2, 0, 1, 3]\n"
          ]
        }
      ]
    },
    {
      "cell_type": "code",
      "source": [
        "N = int(input(\"Enter the numbers of the element: \"))\n",
        "arr = []\n",
        "for i in range(N):\n",
        "    arr.append(int(input(f\"Enter the element {i+1}: \")))\n",
        "n = len(arr)\n",
        "inverse_list = [0] * n\n",
        "for i in range(n):\n",
        "    inverse_list[arr[i]] = i # Use the value run[i] as the index in the inverse array.\n",
        "                            # Assign the current index i as the value in the inverse array.\n",
        "print(inverse_list)"
      ],
      "metadata": {
        "colab": {
          "base_uri": "https://localhost:8080/"
        },
        "id": "10RGKdwqzifG",
        "outputId": "697c68f4-f720-49f8-f0cd-bd3556187e3a"
      },
      "execution_count": null,
      "outputs": [
        {
          "output_type": "stream",
          "name": "stdout",
          "text": [
            "Enter the numbers of the element: 5\n",
            "Enter the element 1: 4\n",
            "Enter the element 2: 3\n",
            "Enter the element 3: 0\n",
            "Enter the element 4: 1\n",
            "Enter the element 5: 2\n",
            "[2, 3, 4, 1, 0]\n"
          ]
        }
      ]
    },
    {
      "cell_type": "code",
      "source": [
        "# Get matrix dimensions from the user\n",
        "rows = int(input(\"Enter the number of rows: \"))\n",
        "cols = int(input(\"Enter the number of columns: \"))\n",
        "\n",
        "# Initialize matrix\n",
        "matrix = []\n",
        "\n",
        "print(\"Enter the elements one by one:\")\n",
        "\n",
        "# Taking input for the matrix\n",
        "for i in range(rows):\n",
        "    row = []\n",
        "    for j in range(cols):\n",
        "        num = int(input(f\"Enter element for Row {i+1}, Column {j+1}: \"))\n",
        "        row.append(num)\n",
        "    matrix.append(row)\n",
        "result = []\n",
        "for i in range(cols):\n",
        "    row = []\n",
        "    for j in range(rows):\n",
        "        row.append(matrix[j][i])\n",
        "    result.append(row)\n",
        "print(\"Transposed matrix:\", result)"
      ],
      "metadata": {
        "colab": {
          "base_uri": "https://localhost:8080/"
        },
        "id": "7yA1M1IdTiqN",
        "outputId": "bcc4b888-da52-4a9d-adac-48c22696f0de"
      },
      "execution_count": null,
      "outputs": [
        {
          "output_type": "stream",
          "name": "stdout",
          "text": [
            "Enter the number of rows: 3\n",
            "Enter the number of columns: 2\n",
            "Enter the elements one by one:\n",
            "Enter element for Row 1, Column 1: 1\n",
            "Enter element for Row 1, Column 2: 2\n",
            "Enter element for Row 2, Column 1: 3\n",
            "Enter element for Row 2, Column 2: 4\n",
            "Enter element for Row 3, Column 1: 5\n",
            "Enter element for Row 3, Column 2: 6\n",
            "Transposed matrix: [[1, 3, 5], [2, 4, 6]]\n"
          ]
        }
      ]
    },
    {
      "cell_type": "code",
      "source": [
        "# Sum of columns\n",
        "list1 = [[1, 2, 3,], [4, 5, 12], [9, 7, 2]]\n",
        "column_sum = []\n",
        "for i in range(len(list1)):\n",
        "    for j in range(len(list1[0])):\n",
        "        if i == 0:\n",
        "            column_sum.append(list1[i][j])\n",
        "        else:\n",
        "            column_sum[j] += list1[i][j]\n",
        "print(column_sum)\n",
        "\n"
      ],
      "metadata": {
        "colab": {
          "base_uri": "https://localhost:8080/"
        },
        "id": "l5P-7XvGQpvs",
        "outputId": "22d713f9-2977-47b4-cbfb-cb252407daa4"
      },
      "execution_count": 1,
      "outputs": [
        {
          "output_type": "stream",
          "name": "stdout",
          "text": [
            "[14, 14, 17]\n"
          ]
        }
      ]
    },
    {
      "cell_type": "code",
      "source": [
        "runs = [[1, 2, 3], [4, 5, 6], [7, 8, 9]]\n",
        "n = len(runs)\n",
        "print([sum(runs[i][j] for i in range(n)) for j in range(n)])"
      ],
      "metadata": {
        "colab": {
          "base_uri": "https://localhost:8080/"
        },
        "id": "rbyrUsmfT8h9",
        "outputId": "cb4a1f58-2ca3-4533-f84d-2f11fcda4eee"
      },
      "execution_count": null,
      "outputs": [
        {
          "output_type": "stream",
          "name": "stdout",
          "text": [
            "[12, 15, 18]\n"
          ]
        }
      ]
    }
  ]
}